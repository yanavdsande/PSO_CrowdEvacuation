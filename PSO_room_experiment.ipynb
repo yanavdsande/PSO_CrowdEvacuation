{
 "cells": [
  {
   "cell_type": "code",
   "execution_count": 45,
   "metadata": {},
   "outputs": [],
   "source": [
    "from tqdm import tqdm\n",
    "import matplotlib.pyplot as plt \n",
    "import numpy as np\n",
    "import gif \n",
    "import matplotlib as mpl \n",
    "import matplotlib.font_manager as fm"
   ]
  },
  {
   "cell_type": "code",
   "execution_count": 46,
   "metadata": {},
   "outputs": [],
   "source": [
    "@gif.frame\n",
    "def plot_all_the_particles(particles):\n",
    "    # assert len(particles) > 0, \"Oh noes I ran out of particles to plot. oops.\"\n",
    "    x = np.linspace(0,20,20)\n",
    "    y = np.linspace(0,20,20)\n",
    "\n",
    "    X,Y = np.array(np.meshgrid(x,y))\n",
    "\n",
    "    z = Euclidean(X,Y)\n",
    "    \n",
    "    #print(f\"this is self.v 0 {self.v[0]}, and self.v[1] {self.v[1]}\")\n",
    "    fig = plt.figure(figsize=(8,6))\n",
    "    plt.imshow(z, extent=[0, 20, 0, 20], origin='lower', cmap='viridis', alpha=0.5)\n",
    "    plt.colorbar()\n",
    "    plt.plot(10, 0, marker='*', markersize=20, color=\"black\")\n",
    "    contours = plt.contour(x, y, z, 10, colors='black', alpha=0.4)\n",
    "    plt.clabel(contours, inline=True, fontsize=8, fmt=\"%.0f\")\n",
    "\n",
    "    for p in particles:\n",
    "        plt.quiver(p.y[0], p.y[1], p.v[0], p.v[1]) \n",
    "    return fig\n",
    "\n",
    "\n",
    "\n",
    "class Particle:\n",
    "    def __init__(self, pos, velocity, f, w, c1, c2, r1, r2, xlimit, ps):\n",
    "        \"\"\" \n",
    "        pos = starting position \n",
    "        velocity = starting velocity \n",
    "        f = objective function \n",
    "        w = weight \n",
    "        c1,c2 = cognition weights \n",
    "        r1,r2 = acceleration weights \n",
    "        xlimit = bounds on searchspace \n",
    "\n",
    "        \"\"\"  \n",
    "       \n",
    "        self.x = pos #position\n",
    "        self.v = velocity #velocity\n",
    "        self.y = self.x #personal best_positon\n",
    "        self.py = np.inf #personal best \n",
    "        self.objective = f\n",
    "        #parameters\n",
    "        self.w = w #inertia weight\n",
    "        self.c1 = c1 #acceleration constant \n",
    "        self.c2 = c2 #accelartation constant\n",
    "        self.r1 = r1 \n",
    "        self.r2 = r2 \n",
    "        self.exitx = 10 \n",
    "        self.exity = 0\n",
    "        self.ps = ps\n",
    "        self.evac = False\n",
    "\n",
    "        #storage\n",
    "        self.history = [self.x] #trajectory in search-space\n",
    "\n",
    "        \n",
    "    def evaluation(self): \n",
    "        \"\"\" \n",
    "        A function that updates the personal best fitness value and the corresponding position \n",
    "        Returns:        fitness\n",
    "        \"\"\"\n",
    "\n",
    "        fitness = self.objective(self.x[0], self.x[1])\n",
    "        if fitness < self.py:\n",
    "            self.py = fitness \n",
    "            self.y = self.x\n",
    "        return fitness \n",
    "    \n",
    "    def update(self, gy, vlimit, xlimit):\n",
    "        \"\"\" \n",
    "        Update function to update velocity and position and store the trajectory of the particle\n",
    "        Arguments:          gy = global best fitness position \n",
    "                            vlimit = bound to velocity, type = List\n",
    "                            xlimit = bound to position, type = List\n",
    "        \n",
    "        Note: sometimes your x or v values can explode, in these cases, uncomment bound and use a predefined bound\n",
    "        \"\"\"\n",
    "        #original update \n",
    "        self.v = self.v + (self.c1 * self.r1 * (self.y - self.x)) + (self.c2 * self.r2 * (gy - self.x)) \n",
    "        #inertia update\n",
    "        #self.v = self.w * self.v + (self.c1 * self.r1 * (self.y - self.x)) + (self.c2 * self.r2 * (gy - self.x)) #velocity update\n",
    "        if  np.sqrt(self.v[0]**2 + self.v[1]**2) < 1: \n",
    "            self.v = self.v/np.sqrt(self.v[0]**2 + self.v[1]**2) #vector normalisation\n",
    "        #bound velocity \n",
    "        # if self.v < vlimit[0]:\n",
    "        #     self.v = vlimit[0]\n",
    "        # if self.v > vlimit[1]: \n",
    "        #     self.v = vlimit[1]\n",
    "        self.x = self.x + self.v\n",
    "        #bound position \n",
    "        if self.x[0] < xlimit[0]: \n",
    "            self.x[0] = xlimit[0]\n",
    "        if self.x[1] < xlimit[0]: \n",
    "            self.x[1] = xlimit[0]\n",
    "        if self.x[0] > xlimit[1]:\n",
    "            self.x[0] = xlimit[1]\n",
    "        if self.x[1] > xlimit[1]:\n",
    "            self.x[1] = xlimit[1]\n",
    "\n",
    "        #story trajectory\n",
    "        self.history.append(self.x)\n",
    "        #np.append(self.history, self.x)\n",
    "\n",
    "    def plot(self):\n",
    "\n",
    "        x = np.linspace(0,20,20)\n",
    "        y = np.linspace(0,20,20)\n",
    "\n",
    "        X,Y = np.array(np.meshgrid(x,y))\n",
    "        z = self.objective(X,Y)\n",
    "        \n",
    "        #print(f\"this is self.v 0 {self.v[0]}, and self.v[1] {self.v[1]}\")\n",
    "        plt.figure(figsize=(8,6))\n",
    "        plt.imshow(z, extent=[0, 20, 0, 20], origin='lower', cmap='viridis', alpha=0.5)\n",
    "        plt.colorbar()\n",
    "        plt.plot([self.exitx], [self.exity], marker='*', markersize=20, color=\"black\")\n",
    "        contours = plt.contour(x, y, z, 10, colors='black', alpha=0.4)\n",
    "        plt.clabel(contours, inline=True, fontsize=8, fmt=\"%.0f\")\n",
    "        plt.quiver(self.x[0], self.x[1], self.v[0], self.v[1]) \n",
    "\n",
    "    def speed(self):\n",
    "        return np.sqrt(self.v[0] ** 2 + self.v[1] ** 2 ) \n",
    "    \n",
    "    def evacuate(self): \n",
    "        if self.ps == 200: \n",
    "            exit_bound = 0.6 \n",
    "        elif self.ps == 300: \n",
    "            exit_bound = 0.85\n",
    "        elif self.ps == 400: \n",
    "            exit_bound = 1.1\n",
    "        elif self.ps == 500: \n",
    "            exit_bound = 1.35 \n",
    "        elif self.ps == 600: \n",
    "            exit_bound = 1.6\n",
    "        elif self.ps == 10:\n",
    "            exit_bound = 0.6 \n",
    "\n",
    "\n",
    "        if self.x[0] > 10 - exit_bound and self.x[0] <10 + exit_bound and self.x[1] < 0.5: \n",
    "            self.evac = True\n",
    "\n",
    "\n",
    "        return self.evac\n",
    "\n",
    "def test_function(x): \n",
    "    \"\"\"\n",
    "    Takes input and returns the square root\n",
    "    Note: this was only to test the initial program \n",
    "    \"\"\"\n",
    "    return x**2\n",
    "\n",
    "def optimize(iterations, ps):\n",
    "    \"\"\"\n",
    "    Standard PSO function for function optimization \n",
    "    Arguments:          iterations, type int \n",
    "                        ps, type int; this is the population size of your swarm \n",
    "    plots the trajectory of the swarms\"\"\"\n",
    "\n",
    "    Particles = [Particle(np.random.rand(2, 1) * 20, np.random.randn(2, 1) * 0.1 , Euclidean, 0.2, 0.1, 0.1, 2, 2, [-100,100], ps ) for _ in range(ps)]  #initialize particles\n",
    "    gy = Particles[np.random.randint(0,ps)].x       #initialize global best position by choosing random position of a particle in swarm \n",
    "    gy_fit =  np.inf                               #initialize global best fitness value by infinity, in case of maximization use -gy_fit\n",
    "    speeds = []\n",
    "    av_speedit = []\n",
    "    density = []\n",
    "    giffie = []\n",
    "    evacuation_complete = 0\n",
    "    \n",
    "    for i in range(iterations):\n",
    "        for p in Particles:         #iterate over particles\n",
    "            \n",
    "            p.evaluation()          #check for best values\n",
    "\n",
    "            best_fitnesses = [p.py for p in Particles]      #stores the best fitness value that particles have known so far\n",
    "            best_particle_index = np.argmin(best_fitnesses) #checks which particle has the best fitness of the above fitnesses\n",
    "            best_particle = Particles[best_particle_index]  #selects the best particle of the swarm in the current iteration\n",
    "\n",
    "            best_fitnesses = np.asarray(best_fitnesses)\n",
    "            if np.any(best_fitnesses[:] < gy_fit):         #updates the global best if the best particle of iteration has better values\n",
    "                gy_fit = np.min(best_fitnesses)\n",
    "                gy = best_particle.x\n",
    "\n",
    "            if p.evacuate(): \n",
    "                Particles.remove(p)\n",
    "                if len(Particles) == 0: \n",
    "                    print(\"everyone evacuated\")\n",
    "                    \n",
    "\n",
    "            else:\n",
    "                p.update(gy, [-10,10], [0,20])\n",
    "                speeds.append(p.speed())\n",
    "                # p.plot()\n",
    "        if len(Particles) != 0:\n",
    "            av_speedit.append(sum(speeds)/len(Particles))\n",
    "            density.append(len(Particles)/40)\n",
    "            evacuation_complete += 1\n",
    "            \n",
    "        else: \n",
    "            av_speedit.append(0)\n",
    "            density.append(0)\n",
    "        giffie.append(plot_all_the_particles(Particles))\n",
    "        \n",
    "    \n",
    "    plt.plot(density, av_speedit)\n",
    "    gif.save(giffie, 'evac.gif', duration=100)\n",
    "    print(evacuation_complete)\n",
    "    specific_flowrate = ps / (evacuation_complete+1)    \n",
    "    return evacuation_complete+1       \n",
    "\n",
    "def Euclidean(X, Y):\n",
    "    \"\"\" \n",
    "    Euclidean distance \n",
    "    Arguments       dataloc, type == type of position\n",
    "                    centroid_location, type == type of centroid\n",
    "                    \n",
    "    Returns the sqrt of the dotproduct of the data/centroid matrices\n",
    "    \"\"\"\n",
    "    \n",
    "    return np.sqrt((10 - X)**2 + ( 0 - Y)**2) #returns a list with euclidean distance for each particle? \n",
    "\n"
   ]
  },
  {
   "cell_type": "code",
   "execution_count": 29,
   "metadata": {},
   "outputs": [
    {
     "name": "stderr",
     "output_type": "stream",
     "text": [
      "/tmp/ipykernel_76338/2798365336.py:178: VisibleDeprecationWarning: Creating an ndarray from ragged nested sequences (which is a list-or-tuple of lists-or-tuples-or ndarrays with different lengths or shapes) is deprecated. If you meant to do this, you must specify 'dtype=object' when creating the ndarray.\n",
      "  best_fitnesses = np.asarray(best_fitnesses)\n"
     ]
    },
    {
     "name": "stdout",
     "output_type": "stream",
     "text": [
      "everyone evacuated\n",
      "18\n",
      "19\n"
     ]
    },
    {
     "data": {
      "image/png": "[encoded data removed]",
      "text/plain": [
       "<Figure size 432x288 with 1 Axes>"
      ]
     },
     "metadata": {
      "needs_background": "light"
     },
     "output_type": "display_data"
    }
   ],
   "source": [
    "#try out\n",
    "\n",
    "# for ps in [200, 400, 500, 600]:\n",
    "#     for i in range(0,5):\n",
    "\n",
    "sfr = optimize(50,600)\n",
    "print(sfr)\n",
    "\n"
   ]
  },
  {
   "cell_type": "code",
   "execution_count": null,
   "metadata": {},
   "outputs": [
    {
     "name": "stdout",
     "output_type": "stream",
     "text": [
      "4.0\n"
     ]
    }
   ],
   "source": []
  },
  {
   "cell_type": "code",
   "execution_count": 30,
   "metadata": {},
   "outputs": [
    {
     "name": "stdout",
     "output_type": "stream",
     "text": [
      "2.7446885516796646\n",
      "7.272008967492839\n",
      "16.902186161821053\n",
      "23.635242385242385\n",
      "33.02373581011352\n"
     ]
    }
   ],
   "source": [
    "#manual calculation of specific flow rates per participant to double check results\n",
    "a = (200/139 + 2*(200/500) + 200/102 + 200/21) / 5 \n",
    "print(a)\n",
    "b = (300/74 + 2*(300/500) + 300/14 + 300/31) / 5 \n",
    "print(b)\n",
    "c = (400/18 + 2*(400/17) + 400/58 + 400/48) / 5 \n",
    "print(c)\n",
    "d = (500/37 + 2*(500/18) + 500/16 + 500/28) / 5 \n",
    "print(d)\n",
    "e = (2 * (600/19) + 2*(600/18) + 600/17) / 5 \n",
    "print(e)\n"
   ]
  },
  {
   "cell_type": "code",
   "execution_count": 58,
   "metadata": {},
   "outputs": [
    {
     "data": {
      "text/plain": [
       "Text(0.5, 0, 'Exit width (m)')"
      ]
     },
     "execution_count": 58,
     "metadata": {},
     "output_type": "execute_result"
    },
    {
     "data": {
      "image/png": "[encoded data removed]",
      "text/plain": [
       "<Figure size 432x288 with 2 Axes>"
      ]
     },
     "metadata": {
      "needs_background": "light"
     },
     "output_type": "display_data"
    }
   ],
   "source": [
    "x = [200, 300, 400, 500, 600]\n",
    "specific_flow_rate = [a,b,c,d,e]\n",
    "upperbound = [2,2,2,2,2]\n",
    "lowerbound = [1.25,1.25,1.25,1.25,1.25]\n",
    "ax = plt.subplot(111)\n",
    "mpl.rcParams['font.family'] = 'DejaVu Serif'\n",
    "plt.rcParams['font.size'] = 10\n",
    "plt.rcParams['axes.linewidth'] = 1\n",
    "ax.plot(x,specific_flow_rate, marker ='*')\n",
    "ax.plot(x, upperbound,  '--', color=\"black\")\n",
    "ax.plot(x, lowerbound,  '--', color=\"black\")\n",
    "ax.set_xlim(100, 700)\n",
    "ax.set_xlabel(\"Number of particles\")\n",
    "ax.set_ylabel(\"Specific Flow Rate (1/m/s)\")\n",
    "ax2 = ax.twiny()\n",
    "ax2.set_xlim(ax.get_xlim())\n",
    "ax2.set_xticks(x)\n",
    "ax2.set_xticklabels([1.2, 1.7, 2.2, 2.7, 3.2])\n",
    "ax2.set_xlabel(\"Exit width (m)\")"
   ]
  },
  {
   "cell_type": "code",
   "execution_count": null,
   "metadata": {},
   "outputs": [],
   "source": []
  }
 ],
 "metadata": {
  "kernelspec": {
   "display_name": "Python 3.9.7 ('base')",
   "language": "python",
   "name": "python3"
  },
  "language_info": {
   "codemirror_mode": {
    "name": "ipython",
    "version": 3
   },
   "file_extension": ".py",
   "mimetype": "text/x-python",
   "name": "python",
   "nbconvert_exporter": "python",
   "pygments_lexer": "ipython3",
   "version": "3.9.7"
  },
  "orig_nbformat": 4,
  "vscode": {
   "interpreter": {
    "hash": "61de8ffb9eb14bbc9185df1728660135deb5dac52d7c09fa4b46ba9fff4f397f"
   }
  }
 },
 "nbformat": 4,
 "nbformat_minor": 2
}
